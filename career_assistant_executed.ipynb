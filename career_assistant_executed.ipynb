{
 "cells": [
  {
   "cell_type": "markdown",
   "metadata": {},
   "source": [
    "# GenAI Career Assistant Agent – Your Ultimate Guide to a Career in Generative AI!🚀\n",
    "\n",
    "## Modificaciones para usar Groq en lugar de Gemini"
   ]
  },
  {
   "cell_type": "code",
   "execution_count": 1,
   "metadata": {
    "execution": {
     "iopub.execute_input": "2024-12-23T16:12:27.496598Z",
     "iopub.status.busy": "2024-12-23T16:12:27.495956Z",
     "iopub.status.idle": "2024-12-23T16:12:28.351799Z",
     "shell.execute_reply": "2024-12-23T16:12:28.351113Z"
    }
   },
   "outputs": [],
   "source": [
    "# Importaciones actualizadas\n",
    "from typing import Dict, TypedDict\n",
    "from langgraph.graph import StateGraph, END, START\n",
    "from langchain_core.prompts import ChatPromptTemplate\n",
    "from langchain_groq import ChatGroq  # Reemplazamos ChatGoogleGenerativeAI\n",
    "\n",
    "from IPython.display import display, Image, Markdown\n",
    "from langchain_core.runnables.graph import MermaidDrawMethod\n",
    "from dotenv import load_dotenv\n",
    "\n",
    "import os"
   ]
  },
  {
   "cell_type": "code",
   "execution_count": 2,
   "metadata": {
    "execution": {
     "iopub.execute_input": "2024-12-23T16:12:28.354972Z",
     "iopub.status.busy": "2024-12-23T16:12:28.354705Z",
     "iopub.status.idle": "2024-12-23T16:12:28.524742Z",
     "shell.execute_reply": "2024-12-23T16:12:28.524005Z"
    }
   },
   "outputs": [],
   "source": [
    "# Cargar variable de entorno para la API de Groq\n",
    "load_dotenv()\n",
    "\n",
    "# Configurar la clave de API de Groq\n",
    "os.environ[\"GROQ_API_KEY\"] = os.getenv('GROQ_API_KEY', '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')\n",
    "\n",
    "# Inicializar el modelo Groq (usando LLaMA3 70b)\n",
    "llm = ChatGroq(\n",
    "    model=\"llama3-70b-8192\",\n",
    "    api_key=os.environ[\"GROQ_API_KEY\"],\n",
    "    temperature=0.5,\n",
    "    verbose=True\n",
    ")"
   ]
  }
 ],
 "metadata": {
  "kernelspec": {
   "display_name": "Python 3",
   "language": "python",
   "name": "python3"
  },
  "language_info": {
   "codemirror_mode": {
    "name": "ipython",
    "version": 3
   },
   "file_extension": ".py",
   "mimetype": "text/x-python",
   "name": "python",
   "nbconvert_exporter": "python",
   "pygments_lexer": "ipython3",
   "version": "3.12.1"
  }
 },
 "nbformat": 4,
 "nbformat_minor": 2
}
